{
 "cells": [
  {
   "cell_type": "code",
   "execution_count": null,
   "id": "c8f0b9a9",
   "metadata": {},
   "outputs": [],
   "source": [
    "# Configure YOLOv8 for Windows GPU\n",
    "# conda create -n ENV_NAME python=3.7\n",
    "# activate ENV_NAME"
   ]
  },
  {
   "cell_type": "code",
   "execution_count": 1,
   "id": "ad28b52b",
   "metadata": {},
   "outputs": [
    {
     "name": "stdout",
     "output_type": "stream",
     "text": [
      "Collecting ultralytics\n",
      "  Obtaining dependency information for ultralytics from https://files.pythonhosted.org/packages/ec/0d/944fbda6650d7b8ecf06de81c81d1e544cf550afe6adcc0c037e06270be7/ultralytics-8.0.161-py3-none-any.whl.metadata\n",
      "  Downloading ultralytics-8.0.161-py3-none-any.whl.metadata (28 kB)\n",
      "Requirement already satisfied: matplotlib>=3.2.2 in c:\\users\\baps\\anaconda3\\envs\\tf\\lib\\site-packages (from ultralytics) (3.7.2)\n",
      "Collecting numpy>=1.22.2 (from ultralytics)\n",
      "  Obtaining dependency information for numpy>=1.22.2 from https://files.pythonhosted.org/packages/69/65/0d47953afa0ad569d12de5f65d964321c208492064c38fe3b0b9744f8d44/numpy-1.24.4-cp38-cp38-win_amd64.whl.metadata\n",
      "  Using cached numpy-1.24.4-cp38-cp38-win_amd64.whl.metadata (5.6 kB)\n",
      "Requirement already satisfied: opencv-python>=4.6.0 in c:\\users\\baps\\anaconda3\\envs\\tf\\lib\\site-packages (from ultralytics) (4.8.0.76)\n",
      "Requirement already satisfied: pillow>=7.1.2 in c:\\users\\baps\\anaconda3\\envs\\tf\\lib\\site-packages (from ultralytics) (10.0.0)\n",
      "Requirement already satisfied: pyyaml>=5.3.1 in c:\\users\\baps\\anaconda3\\envs\\tf\\lib\\site-packages (from ultralytics) (6.0.1)\n",
      "Requirement already satisfied: requests>=2.23.0 in c:\\users\\baps\\anaconda3\\envs\\tf\\lib\\site-packages (from ultralytics) (2.31.0)\n",
      "Requirement already satisfied: scipy>=1.4.1 in c:\\users\\baps\\anaconda3\\envs\\tf\\lib\\site-packages (from ultralytics) (1.10.1)\n",
      "Collecting torch>=1.8.0 (from ultralytics)\n",
      "  Downloading torch-2.0.1-cp38-cp38-win_amd64.whl (172.4 MB)\n",
      "     ---------------------------------------- 0.0/172.4 MB ? eta -:--:--\n",
      "     ---------------------------------------- 0.1/172.4 MB 3.2 MB/s eta 0:00:54\n",
      "     ---------------------------------------- 0.2/172.4 MB 3.0 MB/s eta 0:00:58\n",
      "     ---------------------------------------- 0.4/172.4 MB 4.5 MB/s eta 0:00:39\n",
      "     ---------------------------------------- 1.3/172.4 MB 7.7 MB/s eta 0:00:23\n",
      "      -------------------------------------- 2.8/172.4 MB 12.7 MB/s eta 0:00:14\n",
      "     - ------------------------------------- 4.6/172.4 MB 16.3 MB/s eta 0:00:11\n",
      "     - ------------------------------------- 7.0/172.4 MB 21.3 MB/s eta 0:00:08\n",
      "     - ------------------------------------- 8.8/172.4 MB 23.5 MB/s eta 0:00:07\n",
      "     -- ----------------------------------- 10.1/172.4 MB 23.8 MB/s eta 0:00:07\n",
      "     -- ----------------------------------- 10.2/172.4 MB 24.1 MB/s eta 0:00:07\n",
      "     -- ----------------------------------- 10.2/172.4 MB 24.1 MB/s eta 0:00:07\n",
      "     -- ----------------------------------- 11.0/172.4 MB 24.3 MB/s eta 0:00:07\n",
      "     -- ----------------------------------- 11.3/172.4 MB 25.2 MB/s eta 0:00:07\n",
      "     -- ----------------------------------- 12.0/172.4 MB 22.6 MB/s eta 0:00:08\n",
      "     -- ----------------------------------- 12.4/172.4 MB 21.1 MB/s eta 0:00:08\n",
      "     -- ----------------------------------- 13.4/172.4 MB 19.8 MB/s eta 0:00:09\n",
      "     --- ---------------------------------- 14.2/172.4 MB 18.2 MB/s eta 0:00:09\n",
      "     --- ---------------------------------- 15.3/172.4 MB 17.2 MB/s eta 0:00:10\n",
      "     --- ---------------------------------- 18.0/172.4 MB 17.3 MB/s eta 0:00:09\n",
      "     ---- --------------------------------- 20.2/172.4 MB 18.7 MB/s eta 0:00:09\n",
      "     ---- --------------------------------- 21.5/172.4 MB 22.6 MB/s eta 0:00:07\n",
      "     ---- --------------------------------- 22.3/172.4 MB 27.3 MB/s eta 0:00:06\n",
      "     ---- --------------------------------- 22.3/172.4 MB 27.3 MB/s eta 0:00:06\n",
      "     ----- -------------------------------- 22.8/172.4 MB 23.4 MB/s eta 0:00:07\n",
      "     ----- -------------------------------- 23.3/172.4 MB 22.6 MB/s eta 0:00:07\n",
      "     ----- -------------------------------- 24.2/172.4 MB 23.4 MB/s eta 0:00:07\n",
      "     ----- -------------------------------- 25.1/172.4 MB 23.4 MB/s eta 0:00:07\n",
      "     ----- -------------------------------- 25.7/172.4 MB 21.9 MB/s eta 0:00:07\n",
      "     ------ ------------------------------- 27.3/172.4 MB 21.1 MB/s eta 0:00:07\n",
      "     ------ ------------------------------- 29.7/172.4 MB 20.5 MB/s eta 0:00:07\n",
      "     ------- ------------------------------ 31.8/172.4 MB 21.1 MB/s eta 0:00:07\n",
      "     ------- ------------------------------ 33.0/172.4 MB 26.2 MB/s eta 0:00:06\n",
      "     ------- ------------------------------ 34.3/172.4 MB 29.7 MB/s eta 0:00:05\n",
      "     ------- ------------------------------ 35.4/172.4 MB 31.2 MB/s eta 0:00:05\n",
      "     -------- ----------------------------- 36.7/172.4 MB 32.8 MB/s eta 0:00:05\n",
      "     -------- ----------------------------- 37.9/172.4 MB 31.2 MB/s eta 0:00:05\n",
      "     -------- ----------------------------- 39.0/172.4 MB 28.4 MB/s eta 0:00:05\n",
      "     -------- ----------------------------- 40.2/172.4 MB 27.3 MB/s eta 0:00:05\n",
      "     --------- ---------------------------- 41.4/172.4 MB 25.1 MB/s eta 0:00:06\n",
      "     --------- ---------------------------- 42.9/172.4 MB 26.2 MB/s eta 0:00:05\n",
      "     --------- ---------------------------- 44.1/172.4 MB 26.2 MB/s eta 0:00:05\n",
      "     --------- ---------------------------- 45.3/172.4 MB 26.2 MB/s eta 0:00:05\n",
      "     ---------- --------------------------- 46.5/172.4 MB 26.2 MB/s eta 0:00:05\n",
      "     ---------- --------------------------- 47.7/172.4 MB 26.2 MB/s eta 0:00:05\n",
      "     ---------- --------------------------- 48.9/172.4 MB 26.2 MB/s eta 0:00:05\n",
      "     ----------- -------------------------- 50.5/172.4 MB 27.3 MB/s eta 0:00:05\n",
      "     ----------- -------------------------- 51.7/172.4 MB 27.3 MB/s eta 0:00:05\n",
      "     ----------- -------------------------- 53.0/172.4 MB 27.3 MB/s eta 0:00:05\n",
      "     ----------- -------------------------- 54.2/172.4 MB 26.2 MB/s eta 0:00:05\n",
      "     ------------ ------------------------- 55.5/172.4 MB 25.2 MB/s eta 0:00:05\n",
      "     ------------ ------------------------- 57.0/172.4 MB 25.2 MB/s eta 0:00:05\n",
      "     ------------ ------------------------- 58.2/172.4 MB 26.2 MB/s eta 0:00:05\n",
      "     ------------- ------------------------ 59.4/172.4 MB 26.2 MB/s eta 0:00:05\n",
      "     ------------- ------------------------ 60.6/172.4 MB 25.2 MB/s eta 0:00:05\n",
      "     ------------- ------------------------ 61.8/172.4 MB 25.2 MB/s eta 0:00:05\n",
      "     ------------- ------------------------ 63.0/172.4 MB 24.2 MB/s eta 0:00:05\n",
      "     -------------- ----------------------- 64.2/172.4 MB 26.2 MB/s eta 0:00:05\n",
      "     -------------- ----------------------- 65.5/172.4 MB 26.2 MB/s eta 0:00:05\n",
      "     -------------- ----------------------- 66.7/172.4 MB 25.2 MB/s eta 0:00:05\n",
      "     -------------- ----------------------- 67.8/172.4 MB 26.2 MB/s eta 0:00:04\n",
      "     --------------- ---------------------- 69.1/172.4 MB 25.1 MB/s eta 0:00:05\n",
      "     --------------- ---------------------- 70.2/172.4 MB 25.2 MB/s eta 0:00:05\n",
      "     --------------- ---------------------- 71.5/172.4 MB 26.2 MB/s eta 0:00:04\n",
      "     ---------------- --------------------- 72.7/172.4 MB 26.2 MB/s eta 0:00:04\n",
      "     ---------------- --------------------- 73.9/172.4 MB 26.2 MB/s eta 0:00:04\n",
      "     ---------------- --------------------- 75.1/172.4 MB 26.2 MB/s eta 0:00:04\n",
      "     ---------------- --------------------- 76.7/172.4 MB 27.3 MB/s eta 0:00:04\n",
      "     ----------------- -------------------- 77.9/172.4 MB 25.2 MB/s eta 0:00:04\n",
      "     ----------------- -------------------- 79.2/172.4 MB 25.2 MB/s eta 0:00:04\n",
      "     ----------------- -------------------- 80.4/172.4 MB 25.2 MB/s eta 0:00:04\n",
      "     ----------------- -------------------- 80.9/172.4 MB 25.2 MB/s eta 0:00:04\n",
      "     ----------------- -------------------- 80.9/172.4 MB 25.2 MB/s eta 0:00:04\n",
      "     ------------------ ------------------- 84.3/172.4 MB 26.2 MB/s eta 0:00:04\n",
      "     ------------------ ------------------- 85.6/172.4 MB 25.2 MB/s eta 0:00:04\n",
      "     ------------------- ------------------ 86.8/172.4 MB 24.2 MB/s eta 0:00:04\n",
      "     ------------------- ------------------ 88.3/172.4 MB 27.3 MB/s eta 0:00:04\n",
      "     ------------------- ------------------ 89.6/172.4 MB 27.3 MB/s eta 0:00:04\n",
      "     -------------------- ----------------- 90.8/172.4 MB 26.2 MB/s eta 0:00:04\n",
      "     -------------------- ----------------- 92.0/172.4 MB 29.7 MB/s eta 0:00:03\n",
      "     -------------------- ----------------- 93.2/172.4 MB 27.3 MB/s eta 0:00:03\n",
      "     -------------------- ----------------- 94.4/172.4 MB 26.2 MB/s eta 0:00:03\n",
      "     --------------------- ---------------- 95.6/172.4 MB 26.2 MB/s eta 0:00:03\n",
      "     --------------------- ---------------- 96.9/172.4 MB 25.2 MB/s eta 0:00:03\n",
      "     --------------------- ---------------- 98.1/172.4 MB 25.2 MB/s eta 0:00:03\n",
      "     --------------------- ---------------- 99.3/172.4 MB 25.1 MB/s eta 0:00:03\n",
      "     --------------------- --------------- 100.6/172.4 MB 27.3 MB/s eta 0:00:03\n",
      "     --------------------- --------------- 101.8/172.4 MB 26.2 MB/s eta 0:00:03\n",
      "     ---------------------- -------------- 103.0/172.4 MB 25.2 MB/s eta 0:00:03\n",
      "     ---------------------- -------------- 104.2/172.4 MB 25.2 MB/s eta 0:00:03\n",
      "     ---------------------- -------------- 105.4/172.4 MB 25.2 MB/s eta 0:00:03\n",
      "     ---------------------- -------------- 106.7/172.4 MB 27.3 MB/s eta 0:00:03\n",
      "     ----------------------- ------------- 107.9/172.4 MB 26.2 MB/s eta 0:00:03\n",
      "     ----------------------- ------------- 109.1/172.4 MB 26.2 MB/s eta 0:00:03\n",
      "     ----------------------- ------------- 110.4/172.4 MB 25.2 MB/s eta 0:00:03\n",
      "     ----------------------- ------------- 111.6/172.4 MB 26.2 MB/s eta 0:00:03\n",
      "     ------------------------ ------------ 112.8/172.4 MB 25.2 MB/s eta 0:00:03\n",
      "     ------------------------ ------------ 114.0/172.4 MB 25.2 MB/s eta 0:00:03\n",
      "     ------------------------ ------------ 115.2/172.4 MB 26.2 MB/s eta 0:00:03\n",
      "     ------------------------- ----------- 116.5/172.4 MB 25.2 MB/s eta 0:00:03\n",
      "     ------------------------- ----------- 117.7/172.4 MB 25.1 MB/s eta 0:00:03\n",
      "     ------------------------- ----------- 118.9/172.4 MB 25.1 MB/s eta 0:00:03\n",
      "     ------------------------- ----------- 120.1/172.4 MB 26.2 MB/s eta 0:00:02\n",
      "     -------------------------- ---------- 121.4/172.4 MB 26.2 MB/s eta 0:00:02\n",
      "     -------------------------- ---------- 123.0/172.4 MB 26.2 MB/s eta 0:00:02\n",
      "     -------------------------- ---------- 124.2/172.4 MB 26.2 MB/s eta 0:00:02\n",
      "     --------------------------- --------- 125.8/172.4 MB 25.2 MB/s eta 0:00:02\n",
      "     --------------------------- --------- 127.0/172.4 MB 26.2 MB/s eta 0:00:02\n",
      "     --------------------------- --------- 128.2/172.4 MB 26.2 MB/s eta 0:00:02\n",
      "     --------------------------- --------- 129.4/172.4 MB 25.2 MB/s eta 0:00:02\n",
      "     ---------------------------- -------- 130.6/172.4 MB 26.2 MB/s eta 0:00:02\n",
      "     ---------------------------- -------- 131.9/172.4 MB 26.2 MB/s eta 0:00:02\n",
      "     ---------------------------- -------- 133.1/172.4 MB 26.2 MB/s eta 0:00:02\n",
      "     ---------------------------- -------- 134.3/172.4 MB 25.2 MB/s eta 0:00:02\n",
      "     ----------------------------- ------- 135.5/172.4 MB 25.2 MB/s eta 0:00:02\n",
      "     ----------------------------- ------- 136.7/172.4 MB 26.2 MB/s eta 0:00:02\n",
      "     ----------------------------- ------- 137.9/172.4 MB 26.2 MB/s eta 0:00:02\n",
      "     ----------------------------- ------- 139.2/172.4 MB 26.2 MB/s eta 0:00:02\n",
      "     ------------------------------ ------ 140.4/172.4 MB 26.2 MB/s eta 0:00:02\n",
      "     ------------------------------ ------ 141.6/172.4 MB 25.2 MB/s eta 0:00:02\n",
      "     ------------------------------ ------ 142.7/172.4 MB 25.2 MB/s eta 0:00:02\n",
      "     ------------------------------ ------ 144.0/172.4 MB 25.2 MB/s eta 0:00:02\n",
      "     ------------------------------- ----- 145.2/172.4 MB 25.2 MB/s eta 0:00:02\n",
      "     ------------------------------- ----- 146.4/172.4 MB 25.1 MB/s eta 0:00:02\n",
      "     ------------------------------- ----- 147.6/172.4 MB 26.2 MB/s eta 0:00:01\n",
      "     ------------------------------- ----- 148.8/172.4 MB 26.2 MB/s eta 0:00:01\n",
      "     -------------------------------- ---- 150.0/172.4 MB 26.2 MB/s eta 0:00:01\n",
      "     -------------------------------- ---- 151.2/172.4 MB 26.2 MB/s eta 0:00:01\n",
      "     -------------------------------- ---- 152.5/172.4 MB 25.2 MB/s eta 0:00:01\n",
      "     -------------------------------- ---- 153.7/172.4 MB 26.2 MB/s eta 0:00:01\n",
      "     --------------------------------- --- 154.9/172.4 MB 26.2 MB/s eta 0:00:01\n",
      "     --------------------------------- --- 156.1/172.4 MB 26.2 MB/s eta 0:00:01\n",
      "     --------------------------------- --- 157.3/172.4 MB 27.3 MB/s eta 0:00:01\n",
      "     ---------------------------------- -- 158.5/172.4 MB 26.2 MB/s eta 0:00:01\n",
      "     ---------------------------------- -- 159.8/172.4 MB 26.2 MB/s eta 0:00:01\n",
      "     ---------------------------------- -- 161.0/172.4 MB 26.2 MB/s eta 0:00:01\n",
      "     ---------------------------------- -- 162.2/172.4 MB 27.3 MB/s eta 0:00:01\n",
      "     ----------------------------------- - 163.5/172.4 MB 26.2 MB/s eta 0:00:01\n",
      "     ----------------------------------- - 164.7/172.4 MB 26.2 MB/s eta 0:00:01\n",
      "     ----------------------------------- - 165.9/172.4 MB 26.2 MB/s eta 0:00:01\n",
      "     ----------------------------------- - 167.2/172.4 MB 27.3 MB/s eta 0:00:01\n",
      "     ------------------------------------  168.4/172.4 MB 27.3 MB/s eta 0:00:01\n",
      "     ------------------------------------  169.6/172.4 MB 26.2 MB/s eta 0:00:01\n",
      "     ------------------------------------  170.8/172.4 MB 25.2 MB/s eta 0:00:01\n",
      "     ------------------------------------  171.9/172.4 MB 26.2 MB/s eta 0:00:01\n",
      "     ------------------------------------  172.3/172.4 MB 26.2 MB/s eta 0:00:01\n",
      "     ------------------------------------  172.3/172.4 MB 26.2 MB/s eta 0:00:01\n",
      "     ------------------------------------  172.3/172.4 MB 26.2 MB/s eta 0:00:01\n",
      "     ------------------------------------  172.3/172.4 MB 26.2 MB/s eta 0:00:01\n",
      "     ------------------------------------  172.3/172.4 MB 26.2 MB/s eta 0:00:01\n",
      "     ------------------------------------  172.3/172.4 MB 26.2 MB/s eta 0:00:01\n",
      "     ------------------------------------  172.3/172.4 MB 26.2 MB/s eta 0:00:01\n",
      "     ------------------------------------  172.3/172.4 MB 26.2 MB/s eta 0:00:01\n",
      "     ------------------------------------  172.3/172.4 MB 26.2 MB/s eta 0:00:01\n",
      "     ------------------------------------  172.3/172.4 MB 26.2 MB/s eta 0:00:01\n",
      "     ------------------------------------  172.3/172.4 MB 26.2 MB/s eta 0:00:01\n",
      "     ------------------------------------  172.3/172.4 MB 26.2 MB/s eta 0:00:01\n",
      "     ------------------------------------  172.3/172.4 MB 26.2 MB/s eta 0:00:01\n",
      "     -------------------------------------- 172.4/172.4 MB 7.6 MB/s eta 0:00:00\n",
      "Collecting torchvision>=0.9.0 (from ultralytics)\n",
      "  Downloading torchvision-0.15.2-cp38-cp38-win_amd64.whl (1.2 MB)\n",
      "     ---------------------------------------- 0.0/1.2 MB ? eta -:--:--\n",
      "     ---------------------------------------- 1.2/1.2 MB 37.0 MB/s eta 0:00:00\n",
      "Collecting tqdm>=4.64.0 (from ultralytics)\n",
      "  Obtaining dependency information for tqdm>=4.64.0 from https://files.pythonhosted.org/packages/00/e5/f12a80907d0884e6dff9c16d0c0114d81b8cd07dc3ae54c5e962cc83037e/tqdm-4.66.1-py3-none-any.whl.metadata\n",
      "  Downloading tqdm-4.66.1-py3-none-any.whl.metadata (57 kB)\n",
      "     ---------------------------------------- 0.0/57.6 kB ? eta -:--:--\n",
      "     ---------------------------------------- 57.6/57.6 kB 3.0 MB/s eta 0:00:00\n",
      "Collecting pandas>=1.1.4 (from ultralytics)\n",
      "  Obtaining dependency information for pandas>=1.1.4 from https://files.pythonhosted.org/packages/c3/6c/ea362eef61f05553aaf1a24b3e96b2d0603f5dc71a3bd35688a24ed88843/pandas-2.0.3-cp38-cp38-win_amd64.whl.metadata\n",
      "  Downloading pandas-2.0.3-cp38-cp38-win_amd64.whl.metadata (18 kB)\n",
      "Collecting seaborn>=0.11.0 (from ultralytics)\n",
      "  Downloading seaborn-0.12.2-py3-none-any.whl (293 kB)\n",
      "     ---------------------------------------- 0.0/293.3 kB ? eta -:--:--\n",
      "     -------------------------------------- 293.3/293.3 kB 9.1 MB/s eta 0:00:00\n",
      "Requirement already satisfied: psutil in c:\\users\\baps\\anaconda3\\envs\\tf\\lib\\site-packages (from ultralytics) (5.9.0)\n",
      "Collecting py-cpuinfo (from ultralytics)\n",
      "  Using cached py_cpuinfo-9.0.0-py3-none-any.whl (22 kB)\n",
      "Requirement already satisfied: contourpy>=1.0.1 in c:\\users\\baps\\anaconda3\\envs\\tf\\lib\\site-packages (from matplotlib>=3.2.2->ultralytics) (1.1.0)\n",
      "Requirement already satisfied: cycler>=0.10 in c:\\users\\baps\\anaconda3\\envs\\tf\\lib\\site-packages (from matplotlib>=3.2.2->ultralytics) (0.11.0)\n",
      "Requirement already satisfied: fonttools>=4.22.0 in c:\\users\\baps\\anaconda3\\envs\\tf\\lib\\site-packages (from matplotlib>=3.2.2->ultralytics) (4.42.1)\n",
      "Requirement already satisfied: kiwisolver>=1.0.1 in c:\\users\\baps\\anaconda3\\envs\\tf\\lib\\site-packages (from matplotlib>=3.2.2->ultralytics) (1.4.4)\n",
      "Requirement already satisfied: packaging>=20.0 in c:\\users\\baps\\anaconda3\\envs\\tf\\lib\\site-packages (from matplotlib>=3.2.2->ultralytics) (23.0)\n",
      "Requirement already satisfied: pyparsing<3.1,>=2.3.1 in c:\\users\\baps\\anaconda3\\envs\\tf\\lib\\site-packages (from matplotlib>=3.2.2->ultralytics) (3.0.9)\n",
      "Requirement already satisfied: python-dateutil>=2.7 in c:\\users\\baps\\anaconda3\\envs\\tf\\lib\\site-packages (from matplotlib>=3.2.2->ultralytics) (2.8.2)\n",
      "Requirement already satisfied: importlib-resources>=3.2.0 in c:\\users\\baps\\anaconda3\\envs\\tf\\lib\\site-packages (from matplotlib>=3.2.2->ultralytics) (5.2.0)\n",
      "Requirement already satisfied: pytz>=2020.1 in c:\\users\\baps\\anaconda3\\envs\\tf\\lib\\site-packages (from pandas>=1.1.4->ultralytics) (2023.3)\n",
      "Collecting tzdata>=2022.1 (from pandas>=1.1.4->ultralytics)\n",
      "  Using cached tzdata-2023.3-py2.py3-none-any.whl (341 kB)\n",
      "Requirement already satisfied: charset-normalizer<4,>=2 in c:\\users\\baps\\anaconda3\\envs\\tf\\lib\\site-packages (from requests>=2.23.0->ultralytics) (3.2.0)\n",
      "Requirement already satisfied: idna<4,>=2.5 in c:\\users\\baps\\anaconda3\\envs\\tf\\lib\\site-packages (from requests>=2.23.0->ultralytics) (3.4)\n",
      "Requirement already satisfied: urllib3<3,>=1.21.1 in c:\\users\\baps\\anaconda3\\envs\\tf\\lib\\site-packages (from requests>=2.23.0->ultralytics) (1.26.16)\n",
      "Requirement already satisfied: certifi>=2017.4.17 in c:\\users\\baps\\anaconda3\\envs\\tf\\lib\\site-packages (from requests>=2.23.0->ultralytics) (2023.7.22)\n",
      "Collecting filelock (from torch>=1.8.0->ultralytics)\n",
      "  Obtaining dependency information for filelock from https://files.pythonhosted.org/packages/00/45/ec3407adf6f6b5bf867a4462b2b0af27597a26bd3cd6e2534cb6ab029938/filelock-3.12.2-py3-none-any.whl.metadata\n",
      "  Downloading filelock-3.12.2-py3-none-any.whl.metadata (2.7 kB)\n",
      "Requirement already satisfied: typing-extensions in c:\\users\\baps\\anaconda3\\envs\\tf\\lib\\site-packages (from torch>=1.8.0->ultralytics) (4.7.1)\n",
      "Collecting sympy (from torch>=1.8.0->ultralytics)\n",
      "  Downloading sympy-1.12-py3-none-any.whl (5.7 MB)\n",
      "     ---------------------------------------- 0.0/5.7 MB ? eta -:--:--\n",
      "     -------- ------------------------------- 1.3/5.7 MB 26.6 MB/s eta 0:00:01\n",
      "     ---------------------------- ----------- 4.1/5.7 MB 43.7 MB/s eta 0:00:01\n",
      "     ---------------------------------------  5.7/5.7 MB 52.5 MB/s eta 0:00:01\n",
      "     ---------------------------------------- 5.7/5.7 MB 40.9 MB/s eta 0:00:00\n",
      "Requirement already satisfied: networkx in c:\\users\\baps\\anaconda3\\envs\\tf\\lib\\site-packages (from torch>=1.8.0->ultralytics) (3.1)\n",
      "Requirement already satisfied: jinja2 in c:\\users\\baps\\anaconda3\\envs\\tf\\lib\\site-packages (from torch>=1.8.0->ultralytics) (3.1.2)\n",
      "Requirement already satisfied: colorama in c:\\users\\baps\\anaconda3\\envs\\tf\\lib\\site-packages (from tqdm>=4.64.0->ultralytics) (0.4.6)\n",
      "Requirement already satisfied: zipp>=3.1.0 in c:\\users\\baps\\anaconda3\\envs\\tf\\lib\\site-packages (from importlib-resources>=3.2.0->matplotlib>=3.2.2->ultralytics) (3.11.0)\n",
      "Requirement already satisfied: six>=1.5 in c:\\users\\baps\\anaconda3\\envs\\tf\\lib\\site-packages (from python-dateutil>=2.7->matplotlib>=3.2.2->ultralytics) (1.16.0)\n",
      "Requirement already satisfied: MarkupSafe>=2.0 in c:\\users\\baps\\anaconda3\\envs\\tf\\lib\\site-packages (from jinja2->torch>=1.8.0->ultralytics) (2.1.1)\n",
      "Collecting mpmath>=0.19 (from sympy->torch>=1.8.0->ultralytics)\n",
      "  Downloading mpmath-1.3.0-py3-none-any.whl (536 kB)\n",
      "     ---------------------------------------- 0.0/536.2 kB ? eta -:--:--\n",
      "     ------------------------------------- 536.2/536.2 kB 32.9 MB/s eta 0:00:00\n",
      "Downloading ultralytics-8.0.161-py3-none-any.whl (609 kB)\n",
      "   ---------------------------------------- 0.0/609.5 kB ? eta -:--:--\n",
      "   --------------------------------------- 609.5/609.5 kB 19.3 MB/s eta 0:00:00\n",
      "Using cached numpy-1.24.4-cp38-cp38-win_amd64.whl (14.9 MB)\n",
      "Downloading pandas-2.0.3-cp38-cp38-win_amd64.whl (10.8 MB)\n",
      "   ---------------------------------------- 0.0/10.8 MB ? eta -:--:--\n",
      "   ---------- ----------------------------- 2.9/10.8 MB 94.1 MB/s eta 0:00:01\n",
      "   -------------------- ------------------- 5.6/10.8 MB 59.7 MB/s eta 0:00:01\n",
      "   ------------------------- -------------- 6.8/10.8 MB 54.6 MB/s eta 0:00:01\n",
      "   ----------------------------- ---------- 8.0/10.8 MB 46.7 MB/s eta 0:00:01\n",
      "   ---------------------------------- ----- 9.2/10.8 MB 42.1 MB/s eta 0:00:01\n",
      "   -------------------------------------- - 10.4/10.8 MB 38.5 MB/s eta 0:00:01\n",
      "   ---------------------------------------  10.8/10.8 MB 36.4 MB/s eta 0:00:01\n",
      "   ---------------------------------------- 10.8/10.8 MB 28.4 MB/s eta 0:00:00\n",
      "Downloading tqdm-4.66.1-py3-none-any.whl (78 kB)\n",
      "   ---------------------------------------- 0.0/78.3 kB ? eta -:--:--\n",
      "   ---------------------------------------- 78.3/78.3 kB ? eta 0:00:00\n",
      "Using cached filelock-3.12.2-py3-none-any.whl (10 kB)\n",
      "Installing collected packages: py-cpuinfo, mpmath, tzdata, tqdm, sympy, numpy, filelock, torch, pandas, torchvision, seaborn, ultralytics\n",
      "  Attempting uninstall: numpy\n",
      "    Found existing installation: numpy 1.21.0\n",
      "    Uninstalling numpy-1.21.0:\n",
      "      Successfully uninstalled numpy-1.21.0\n"
     ]
    },
    {
     "name": "stderr",
     "output_type": "stream",
     "text": [
      "WARNING: Ignoring invalid distribution - (c:\\users\\baps\\anaconda3\\envs\\tf\\lib\\site-packages)\n",
      "WARNING: Ignoring invalid distribution -rotobuf (c:\\users\\baps\\anaconda3\\envs\\tf\\lib\\site-packages)\n",
      "WARNING: Ignoring invalid distribution - (c:\\users\\baps\\anaconda3\\envs\\tf\\lib\\site-packages)\n",
      "WARNING: Ignoring invalid distribution -rotobuf (c:\\users\\baps\\anaconda3\\envs\\tf\\lib\\site-packages)\n",
      "ERROR: Could not install packages due to an OSError: [WinError 5] Access is denied: 'C:\\\\Users\\\\BAPS\\\\AppData\\\\Local\\\\Temp\\\\pip-uninstall-13z1n1vw\\\\libopenblas.gk7gx5keq4f6uyo3p26ulgbqyhgqo7j4.gfortran-win_amd64.dll'\n",
      "Consider using the `--user` option or check the permissions.\n",
      "\n"
     ]
    }
   ],
   "source": [
    "!pip install ultralytics"
   ]
  },
  {
   "cell_type": "code",
   "execution_count": null,
   "id": "c79a6c66",
   "metadata": {},
   "outputs": [],
   "source": [
    "# conda install jupyter\n",
    "# conda install nb_conda\n",
    "# conda install ipykernel"
   ]
  },
  {
   "cell_type": "code",
   "execution_count": 1,
   "id": "0393a9d0",
   "metadata": {},
   "outputs": [
    {
     "name": "stderr",
     "output_type": "stream",
     "text": [
      "Ultralytics YOLOv8.0.161  Python-3.9.17 torch-2.0.1+cpu CPU (Intel Core(TM) i5-8365U 1.60GHz)\n",
      "Setup complete  (8 CPUs, 7.8 GB RAM, 89.9/96.7 GB disk)\n"
     ]
    }
   ],
   "source": [
    "# Validate Installation\n",
    "from IPython import display\n",
    "display.clear_output()\n",
    " \n",
    "import ultralytics\n",
    "ultralytics.checks()"
   ]
  },
  {
   "cell_type": "code",
   "execution_count": 2,
   "id": "e2db8fa9",
   "metadata": {},
   "outputs": [
    {
     "data": {
      "text/plain": [
       "False"
      ]
     },
     "execution_count": 2,
     "metadata": {},
     "output_type": "execute_result"
    }
   ],
   "source": [
    "import torch\n",
    "torch.cuda.is_available()\n",
    "\n",
    "# The output is False because torch is not using CUDA or GPU as its backend. Its using CPU.\n",
    "# To use your GPU for training custom YOLOv8 for your own data, you need to install torch with GPU corresponding to your CUDA version."
   ]
  },
  {
   "cell_type": "code",
   "execution_count": 4,
   "id": "9854ba44",
   "metadata": {},
   "outputs": [
    {
     "name": "stderr",
     "output_type": "stream",
     "text": [
      "'nvidia-smi' is not recognized as an internal or external command,\n",
      "operable program or batch file.\n"
     ]
    }
   ],
   "source": [
    "!nvidia-smi"
   ]
  },
  {
   "cell_type": "code",
   "execution_count": 5,
   "id": "b247fc93",
   "metadata": {},
   "outputs": [],
   "source": [
    "#  I am using CUDA 11.7 and Windows system, I have selected them along with the Stable version. I find difficulty using pip command. So I will recommend you to use conda command.\n",
    "# conda install pytorch torchvision torchaudio pytorch-cuda=11.7 -c pytorch -c nvidia"
   ]
  },
  {
   "cell_type": "code",
   "execution_count": 6,
   "id": "61d648c5",
   "metadata": {},
   "outputs": [
    {
     "name": "stdout",
     "output_type": "stream",
     "text": [
      "Looking in indexes: https://download.pytorch.org/whl/cu117\n",
      "Requirement already satisfied: torch in c:\\users\\baps\\anaconda3\\envs\\tf\\lib\\site-packages (2.0.1)\n",
      "Requirement already satisfied: torchvision in c:\\users\\baps\\anaconda3\\envs\\tf\\lib\\site-packages (0.15.2)\n",
      "Collecting torchaudio\n",
      "  Downloading https://download.pytorch.org/whl/cu117/torchaudio-2.0.2%2Bcu117-cp39-cp39-win_amd64.whl (2.5 MB)\n",
      "     ---------------------------------------- 0.0/2.5 MB ? eta -:--:--\n",
      "     --- ------------------------------------ 0.2/2.5 MB 4.4 MB/s eta 0:00:01\n",
      "     ------------ --------------------------- 0.8/2.5 MB 8.2 MB/s eta 0:00:01\n",
      "     ------------------------- -------------- 1.6/2.5 MB 11.1 MB/s eta 0:00:01\n",
      "     ---------------------------------------  2.5/2.5 MB 13.1 MB/s eta 0:00:01\n",
      "     ---------------------------------------- 2.5/2.5 MB 12.1 MB/s eta 0:00:00\n",
      "Requirement already satisfied: filelock in c:\\users\\baps\\anaconda3\\envs\\tf\\lib\\site-packages (from torch) (3.12.2)\n",
      "Requirement already satisfied: typing-extensions in c:\\users\\baps\\anaconda3\\envs\\tf\\lib\\site-packages (from torch) (4.7.1)\n",
      "Requirement already satisfied: sympy in c:\\users\\baps\\anaconda3\\envs\\tf\\lib\\site-packages (from torch) (1.12)\n",
      "Requirement already satisfied: networkx in c:\\users\\baps\\anaconda3\\envs\\tf\\lib\\site-packages (from torch) (3.1)\n",
      "Requirement already satisfied: jinja2 in c:\\users\\baps\\anaconda3\\envs\\tf\\lib\\site-packages (from torch) (3.1.2)\n",
      "Requirement already satisfied: numpy in c:\\users\\baps\\anaconda3\\envs\\tf\\lib\\site-packages (from torchvision) (1.25.2)\n",
      "Requirement already satisfied: requests in c:\\users\\baps\\anaconda3\\envs\\tf\\lib\\site-packages (from torchvision) (2.31.0)\n",
      "Requirement already satisfied: pillow!=8.3.*,>=5.3.0 in c:\\users\\baps\\anaconda3\\envs\\tf\\lib\\site-packages (from torchvision) (10.0.0)\n",
      "Requirement already satisfied: MarkupSafe>=2.0 in c:\\users\\baps\\anaconda3\\envs\\tf\\lib\\site-packages (from jinja2->torch) (2.1.1)\n",
      "Requirement already satisfied: charset-normalizer<4,>=2 in c:\\users\\baps\\anaconda3\\envs\\tf\\lib\\site-packages (from requests->torchvision) (3.2.0)\n",
      "Requirement already satisfied: idna<4,>=2.5 in c:\\users\\baps\\anaconda3\\envs\\tf\\lib\\site-packages (from requests->torchvision) (3.4)\n",
      "Requirement already satisfied: urllib3<3,>=1.21.1 in c:\\users\\baps\\anaconda3\\envs\\tf\\lib\\site-packages (from requests->torchvision) (2.0.4)\n",
      "Requirement already satisfied: certifi>=2017.4.17 in c:\\users\\baps\\anaconda3\\envs\\tf\\lib\\site-packages (from requests->torchvision) (2023.7.22)\n",
      "Requirement already satisfied: mpmath>=0.19 in c:\\users\\baps\\anaconda3\\envs\\tf\\lib\\site-packages (from sympy->torch) (1.3.0)\n",
      "Installing collected packages: torchaudio\n",
      "Successfully installed torchaudio-2.0.2+cu117\n"
     ]
    }
   ],
   "source": [
    "!pip install torch torchvision torchaudio --index-url https://download.pytorch.org/whl/cu117"
   ]
  },
  {
   "cell_type": "code",
   "execution_count": 8,
   "id": "b23708bd",
   "metadata": {},
   "outputs": [
    {
     "data": {
      "text/plain": [
       "False"
      ]
     },
     "execution_count": 8,
     "metadata": {},
     "output_type": "execute_result"
    }
   ],
   "source": [
    "import torch\n",
    "torch.cuda.is_available()"
   ]
  },
  {
   "cell_type": "code",
   "execution_count": 9,
   "id": "d330e270",
   "metadata": {},
   "outputs": [
    {
     "name": "stderr",
     "output_type": "stream",
     "text": [
      "Ultralytics YOLOv8.0.161  Python-3.9.17 torch-2.0.1+cpu CPU (Intel Core(TM) i5-8365U 1.60GHz)\n",
      "Setup complete  (8 CPUs, 7.8 GB RAM, 94.7/96.7 GB disk)\n"
     ]
    }
   ],
   "source": [
    "from IPython import display\n",
    "display.clear_output()\n",
    " \n",
    "import ultralytics\n",
    "ultralytics.checks()"
   ]
  },
  {
   "cell_type": "code",
   "execution_count": 11,
   "id": "c995aae3",
   "metadata": {},
   "outputs": [
    {
     "name": "stderr",
     "output_type": "stream",
     "text": [
      "100%|██████████| 780M/780M [00:37<00:00, 21.9MB/s] \n",
      "'unzip' is not recognized as an internal or external command,\n",
      "operable program or batch file.\n"
     ]
    }
   ],
   "source": [
    "# Download COCO val\n",
    "# import torch\n",
    "# torch.hub.download_url_to_file('https://ultralytics.com/assets/coco2017val.zip', 'tmp.zip')  # download (780M - 5000 images)\n",
    "# # !unzip -q tmp.zip -d datasets && rm tmp.zip  # unzip"
   ]
  },
  {
   "cell_type": "code",
   "execution_count": null,
   "id": "5522bab6",
   "metadata": {},
   "outputs": [],
   "source": [
    "# (tf) C:\\Users\\BAPS>cd C:\\Users\\BAPS\\anaconda3\\envs\\tf\\yolov8n_custom\\\n",
    "# data.yaml\n",
    "# train: C:\\Users\\BAPS\\anaconda3\\envs\\tf\\yolov8n_custom\\Car_detect\\train\\images\n",
    "# val: C:\\Users\\BAPS\\anaconda3\\envs\\tf\\yolov8n_custom\\Car_detect\\valid\\images\n",
    "# test: C:\\Users\\BAPS\\anaconda3\\envs\\tf\\yolov8n_custom\\Car_detect\\test\\images\n",
    "# nc: 2\n",
    "# names: ['space-empty', 'space-occupied']\n",
    "# (tf) C:\\Users\\BAPS\\anaconda3\\envs\\tf\\yolov8n_custom>yolo detect train data=./Car_detect/data.yaml model=yolov8n.pt epochs=10 lr0=0.01"
   ]
  },
  {
   "cell_type": "code",
   "execution_count": null,
   "id": "4b325b09",
   "metadata": {},
   "outputs": [],
   "source": [
    "!yolo task=detect mode=val model= C:/Users/BAPS/runs/detect/train/weights/best.pt data=./Car_detect/data.yaml conf=0.5"
   ]
  },
  {
   "cell_type": "code",
   "execution_count": 4,
   "id": "388869db",
   "metadata": {},
   "outputs": [
    {
     "name": "stderr",
     "output_type": "stream",
     "text": [
      "Ultralytics YOLOv8.0.161  Python-3.9.17 torch-2.0.1+cpu CPU (Intel Core(TM) i5-8365U 1.60GHz)\n",
      "Model summary (fused): 168 layers, 3006038 parameters, 0 gradients\n",
      "\n",
      "Traceback (most recent call last):\n",
      "  File \"C:\\Users\\BAPS\\anaconda3\\envs\\tf\\lib\\runpy.py\", line 197, in _run_module_as_main\n",
      "    return _run_code(code, main_globals, None,\n",
      "  File \"C:\\Users\\BAPS\\anaconda3\\envs\\tf\\lib\\runpy.py\", line 87, in _run_code\n",
      "    exec(code, run_globals)\n",
      "  File \"C:\\Users\\BAPS\\anaconda3\\envs\\tf\\Scripts\\yolo.exe\\__main__.py\", line 7, in <module>\n",
      "  File \"C:\\Users\\BAPS\\anaconda3\\envs\\tf\\lib\\site-packages\\ultralytics\\cfg\\__init__.py\", line 432, in entrypoint\n",
      "    getattr(model, mode)(**overrides)  # default args from model\n",
      "  File \"C:\\Users\\BAPS\\anaconda3\\envs\\tf\\lib\\site-packages\\torch\\utils\\_contextlib.py\", line 115, in decorate_context\n",
      "    return func(*args, **kwargs)\n",
      "  File \"C:\\Users\\BAPS\\anaconda3\\envs\\tf\\lib\\site-packages\\ultralytics\\engine\\model.py\", line 246, in predict\n",
      "    return self.predictor.predict_cli(source=source) if is_cli else self.predictor(source=source, stream=stream)\n",
      "  File \"C:\\Users\\BAPS\\anaconda3\\envs\\tf\\lib\\site-packages\\ultralytics\\engine\\predictor.py\", line 204, in predict_cli\n",
      "    for _ in gen:  # running CLI inference without accumulating any outputs (do not modify)\n",
      "  File \"C:\\Users\\BAPS\\anaconda3\\envs\\tf\\lib\\site-packages\\torch\\utils\\_contextlib.py\", line 35, in generator_context\n",
      "    response = gen.send(None)\n",
      "  File \"C:\\Users\\BAPS\\anaconda3\\envs\\tf\\lib\\site-packages\\ultralytics\\engine\\predictor.py\", line 231, in stream_inference\n",
      "    self.setup_source(source if source is not None else self.args.source)\n",
      "  File \"C:\\Users\\BAPS\\anaconda3\\envs\\tf\\lib\\site-packages\\ultralytics\\engine\\predictor.py\", line 212, in setup_source\n",
      "    self.dataset = load_inference_source(source=source, imgsz=self.imgsz, vid_stride=self.args.vid_stride)\n",
      "  File \"C:\\Users\\BAPS\\anaconda3\\envs\\tf\\lib\\site-packages\\ultralytics\\data\\build.py\", line 165, in load_inference_source\n",
      "    dataset = LoadImages(source, imgsz=imgsz, vid_stride=vid_stride)\n",
      "  File \"C:\\Users\\BAPS\\anaconda3\\envs\\tf\\lib\\site-packages\\ultralytics\\data\\loaders.py\", line 198, in __init__\n",
      "    raise FileNotFoundError(f'{p} does not exist')\n",
      "FileNotFoundError: ./Car_detect/parking1.mp4 does not exist\n"
     ]
    }
   ],
   "source": [
    "!yolo task=detect mode=predict model=C:/Users/BAPS/runs/detect/train/weights/best.pt conf=0.4 source=C:/Users/BAPS/anaconda3/envs/tf/yolov8n_custom/Car_detect/parking1.mp4 save=True"
   ]
  },
  {
   "cell_type": "code",
   "execution_count": 14,
   "id": "525fb9c4",
   "metadata": {},
   "outputs": [
    {
     "name": "stderr",
     "output_type": "stream",
     "text": [
      "\n",
      "                   from  n    params  module                                       arguments                     \n",
      "  0                  -1  1       464  ultralytics.nn.modules.conv.Conv             [3, 16, 3, 2]                 \n",
      "  1                  -1  1      4672  ultralytics.nn.modules.conv.Conv             [16, 32, 3, 2]                \n",
      "  2                  -1  1      7360  ultralytics.nn.modules.block.C2f             [32, 32, 1, True]             \n",
      "  3                  -1  1     18560  ultralytics.nn.modules.conv.Conv             [32, 64, 3, 2]                \n",
      "  4                  -1  2     49664  ultralytics.nn.modules.block.C2f             [64, 64, 2, True]             \n",
      "  5                  -1  1     73984  ultralytics.nn.modules.conv.Conv             [64, 128, 3, 2]               \n",
      "  6                  -1  2    197632  ultralytics.nn.modules.block.C2f             [128, 128, 2, True]           \n",
      "  7                  -1  1    295424  ultralytics.nn.modules.conv.Conv             [128, 256, 3, 2]              \n",
      "  8                  -1  1    460288  ultralytics.nn.modules.block.C2f             [256, 256, 1, True]           \n",
      "  9                  -1  1    164608  ultralytics.nn.modules.block.SPPF            [256, 256, 5]                 \n",
      " 10                  -1  1         0  torch.nn.modules.upsampling.Upsample         [None, 2, 'nearest']          \n",
      " 11             [-1, 6]  1         0  ultralytics.nn.modules.conv.Concat           [1]                           \n",
      " 12                  -1  1    148224  ultralytics.nn.modules.block.C2f             [384, 128, 1]                 \n",
      " 13                  -1  1         0  torch.nn.modules.upsampling.Upsample         [None, 2, 'nearest']          \n",
      " 14             [-1, 4]  1         0  ultralytics.nn.modules.conv.Concat           [1]                           \n",
      " 15                  -1  1     37248  ultralytics.nn.modules.block.C2f             [192, 64, 1]                  \n",
      " 16                  -1  1     36992  ultralytics.nn.modules.conv.Conv             [64, 64, 3, 2]                \n",
      " 17            [-1, 12]  1         0  ultralytics.nn.modules.conv.Concat           [1]                           \n",
      " 18                  -1  1    123648  ultralytics.nn.modules.block.C2f             [192, 128, 1]                 \n",
      " 19                  -1  1    147712  ultralytics.nn.modules.conv.Conv             [128, 128, 3, 2]              \n",
      " 20             [-1, 9]  1         0  ultralytics.nn.modules.conv.Concat           [1]                           \n",
      " 21                  -1  1    493056  ultralytics.nn.modules.block.C2f             [384, 256, 1]                 \n",
      " 22        [15, 18, 21]  1    897664  ultralytics.nn.modules.head.Detect           [80, [64, 128, 256]]          \n",
      "YOLOv8n summary: 225 layers, 3157200 parameters, 3157184 gradients\n",
      "\n",
      "New https://pypi.org/project/ultralytics/8.0.164 available  Update with 'pip install -U ultralytics'\n",
      "Ultralytics YOLOv8.0.161  Python-3.9.17 torch-2.0.1+cpu CPU (Intel Core(TM) i5-8365U 1.60GHz)\n",
      "\u001b[34m\u001b[1mengine\\trainer: \u001b[0mtask=detect, mode=train, model=yolov8n.yaml, data=C:\\Users\\BAPS\\runs\\Car_detect\\data.yaml, epochs=1, patience=50, batch=16, imgsz=640, save=True, save_period=-1, cache=False, device=None, workers=8, project=None, name=None, exist_ok=False, pretrained=True, optimizer=auto, verbose=True, seed=0, deterministic=True, single_cls=False, rect=False, cos_lr=False, close_mosaic=10, resume=False, amp=True, fraction=1.0, profile=False, freeze=None, overlap_mask=True, mask_ratio=4, dropout=0.0, val=True, split=val, save_json=False, save_hybrid=False, conf=None, iou=0.7, max_det=300, half=False, dnn=False, plots=True, source=None, show=False, save_txt=False, save_conf=False, save_crop=False, show_labels=True, show_conf=True, vid_stride=1, line_width=None, visualize=False, augment=False, agnostic_nms=False, classes=None, retina_masks=False, boxes=True, format=torchscript, keras=False, optimize=False, int8=False, dynamic=False, simplify=False, opset=None, workspace=4, nms=False, lr0=0.01, lrf=0.01, momentum=0.937, weight_decay=0.0005, warmup_epochs=3.0, warmup_momentum=0.8, warmup_bias_lr=0.1, box=7.5, cls=0.5, dfl=1.5, pose=12.0, kobj=1.0, label_smoothing=0.0, nbs=64, hsv_h=0.015, hsv_s=0.7, hsv_v=0.4, degrees=0.0, translate=0.1, scale=0.5, shear=0.0, perspective=0.0, flipud=0.0, fliplr=0.5, mosaic=1.0, mixup=0.0, copy_paste=0.0, cfg=None, tracker=botsort.yaml, save_dir=C:\\Users\\BAPS\\runs\\detect\\train\n"
     ]
    },
    {
     "ename": "RuntimeError",
     "evalue": "Dataset 'C://Users/BAPS/runs/Car_detect/data.yaml' error  'C:\\Users\\BAPS\\runs\\Car_detect\\data.yaml' does not exist",
     "output_type": "error",
     "traceback": [
      "\u001b[1;31m---------------------------------------------------------------------------\u001b[0m",
      "\u001b[1;31mFileNotFoundError\u001b[0m                         Traceback (most recent call last)",
      "File \u001b[1;32m~\\anaconda3\\envs\\tf\\lib\\site-packages\\ultralytics\\engine\\trainer.py:125\u001b[0m, in \u001b[0;36mBaseTrainer.__init__\u001b[1;34m(self, cfg, overrides, _callbacks)\u001b[0m\n\u001b[0;32m    124\u001b[0m \u001b[38;5;28;01melif\u001b[39;00m \u001b[38;5;28mself\u001b[39m\u001b[38;5;241m.\u001b[39margs\u001b[38;5;241m.\u001b[39mdata\u001b[38;5;241m.\u001b[39msplit(\u001b[38;5;124m'\u001b[39m\u001b[38;5;124m.\u001b[39m\u001b[38;5;124m'\u001b[39m)[\u001b[38;5;241m-\u001b[39m\u001b[38;5;241m1\u001b[39m] \u001b[38;5;129;01min\u001b[39;00m (\u001b[38;5;124m'\u001b[39m\u001b[38;5;124myaml\u001b[39m\u001b[38;5;124m'\u001b[39m, \u001b[38;5;124m'\u001b[39m\u001b[38;5;124myml\u001b[39m\u001b[38;5;124m'\u001b[39m) \u001b[38;5;129;01mor\u001b[39;00m \u001b[38;5;28mself\u001b[39m\u001b[38;5;241m.\u001b[39margs\u001b[38;5;241m.\u001b[39mtask \u001b[38;5;129;01min\u001b[39;00m (\u001b[38;5;124m'\u001b[39m\u001b[38;5;124mdetect\u001b[39m\u001b[38;5;124m'\u001b[39m, \u001b[38;5;124m'\u001b[39m\u001b[38;5;124msegment\u001b[39m\u001b[38;5;124m'\u001b[39m):\n\u001b[1;32m--> 125\u001b[0m     \u001b[38;5;28mself\u001b[39m\u001b[38;5;241m.\u001b[39mdata \u001b[38;5;241m=\u001b[39m \u001b[43mcheck_det_dataset\u001b[49m\u001b[43m(\u001b[49m\u001b[38;5;28;43mself\u001b[39;49m\u001b[38;5;241;43m.\u001b[39;49m\u001b[43margs\u001b[49m\u001b[38;5;241;43m.\u001b[39;49m\u001b[43mdata\u001b[49m\u001b[43m)\u001b[49m\n\u001b[0;32m    126\u001b[0m     \u001b[38;5;28;01mif\u001b[39;00m \u001b[38;5;124m'\u001b[39m\u001b[38;5;124myaml_file\u001b[39m\u001b[38;5;124m'\u001b[39m \u001b[38;5;129;01min\u001b[39;00m \u001b[38;5;28mself\u001b[39m\u001b[38;5;241m.\u001b[39mdata:\n",
      "File \u001b[1;32m~\\anaconda3\\envs\\tf\\lib\\site-packages\\ultralytics\\data\\utils.py:223\u001b[0m, in \u001b[0;36mcheck_det_dataset\u001b[1;34m(dataset, autodownload)\u001b[0m\n\u001b[0;32m    208\u001b[0m \u001b[38;5;250m\u001b[39m\u001b[38;5;124;03m\"\"\"\u001b[39;00m\n\u001b[0;32m    209\u001b[0m \u001b[38;5;124;03mDownload, verify, and/or unzip a dataset if not found locally.\u001b[39;00m\n\u001b[0;32m    210\u001b[0m \n\u001b[1;32m   (...)\u001b[0m\n\u001b[0;32m    220\u001b[0m \u001b[38;5;124;03m    (dict): Parsed dataset information and paths.\u001b[39;00m\n\u001b[0;32m    221\u001b[0m \u001b[38;5;124;03m\"\"\"\u001b[39;00m\n\u001b[1;32m--> 223\u001b[0m data \u001b[38;5;241m=\u001b[39m \u001b[43mcheck_file\u001b[49m\u001b[43m(\u001b[49m\u001b[43mdataset\u001b[49m\u001b[43m)\u001b[49m\n\u001b[0;32m    225\u001b[0m \u001b[38;5;66;03m# Download (optional)\u001b[39;00m\n",
      "File \u001b[1;32m~\\anaconda3\\envs\\tf\\lib\\site-packages\\ultralytics\\utils\\checks.py:378\u001b[0m, in \u001b[0;36mcheck_file\u001b[1;34m(file, suffix, download, hard)\u001b[0m\n\u001b[0;32m    377\u001b[0m \u001b[38;5;28;01mif\u001b[39;00m \u001b[38;5;129;01mnot\u001b[39;00m files \u001b[38;5;129;01mand\u001b[39;00m hard:\n\u001b[1;32m--> 378\u001b[0m     \u001b[38;5;28;01mraise\u001b[39;00m \u001b[38;5;167;01mFileNotFoundError\u001b[39;00m(\u001b[38;5;124mf\u001b[39m\u001b[38;5;124m\"\u001b[39m\u001b[38;5;124m'\u001b[39m\u001b[38;5;132;01m{\u001b[39;00mfile\u001b[38;5;132;01m}\u001b[39;00m\u001b[38;5;124m'\u001b[39m\u001b[38;5;124m does not exist\u001b[39m\u001b[38;5;124m\"\u001b[39m)\n\u001b[0;32m    379\u001b[0m \u001b[38;5;28;01melif\u001b[39;00m \u001b[38;5;28mlen\u001b[39m(files) \u001b[38;5;241m>\u001b[39m \u001b[38;5;241m1\u001b[39m \u001b[38;5;129;01mand\u001b[39;00m hard:\n",
      "\u001b[1;31mFileNotFoundError\u001b[0m: 'C:\\Users\\BAPS\\runs\\Car_detect\\data.yaml' does not exist",
      "\nThe above exception was the direct cause of the following exception:\n",
      "\u001b[1;31mRuntimeError\u001b[0m                              Traceback (most recent call last)",
      "Cell \u001b[1;32mIn[14], line 10\u001b[0m\n\u001b[0;32m      7\u001b[0m model \u001b[38;5;241m=\u001b[39m YOLO(\u001b[38;5;124m\"\u001b[39m\u001b[38;5;124myolov8n.yaml\u001b[39m\u001b[38;5;124m\"\u001b[39m)  \u001b[38;5;66;03m# build a new model from scratch\u001b[39;00m\n\u001b[0;32m      9\u001b[0m \u001b[38;5;66;03m# Use the model\u001b[39;00m\n\u001b[1;32m---> 10\u001b[0m results \u001b[38;5;241m=\u001b[39m \u001b[43mmodel\u001b[49m\u001b[38;5;241;43m.\u001b[39;49m\u001b[43mtrain\u001b[49m\u001b[43m(\u001b[49m\u001b[43mdata\u001b[49m\u001b[38;5;241;43m=\u001b[39;49m\u001b[43mos\u001b[49m\u001b[38;5;241;43m.\u001b[39;49m\u001b[43mpath\u001b[49m\u001b[38;5;241;43m.\u001b[39;49m\u001b[43mjoin\u001b[49m\u001b[43m(\u001b[49m\u001b[43mROOT_DIR\u001b[49m\u001b[43m,\u001b[49m\u001b[43m \u001b[49m\u001b[38;5;124;43m\"\u001b[39;49m\u001b[38;5;124;43mdata.yaml\u001b[39;49m\u001b[38;5;124;43m\"\u001b[39;49m\u001b[43m)\u001b[49m\u001b[43m,\u001b[49m\u001b[43m \u001b[49m\u001b[43mepochs\u001b[49m\u001b[38;5;241;43m=\u001b[39;49m\u001b[38;5;241;43m1\u001b[39;49m\u001b[43m)\u001b[49m\n",
      "File \u001b[1;32m~\\anaconda3\\envs\\tf\\lib\\site-packages\\ultralytics\\engine\\model.py:372\u001b[0m, in \u001b[0;36mModel.train\u001b[1;34m(self, trainer, **kwargs)\u001b[0m\n\u001b[0;32m    370\u001b[0m \u001b[38;5;28mself\u001b[39m\u001b[38;5;241m.\u001b[39mtask \u001b[38;5;241m=\u001b[39m overrides\u001b[38;5;241m.\u001b[39mget(\u001b[38;5;124m'\u001b[39m\u001b[38;5;124mtask\u001b[39m\u001b[38;5;124m'\u001b[39m) \u001b[38;5;129;01mor\u001b[39;00m \u001b[38;5;28mself\u001b[39m\u001b[38;5;241m.\u001b[39mtask\n\u001b[0;32m    371\u001b[0m trainer \u001b[38;5;241m=\u001b[39m trainer \u001b[38;5;129;01mor\u001b[39;00m \u001b[38;5;28mself\u001b[39m\u001b[38;5;241m.\u001b[39msmart_load(\u001b[38;5;124m'\u001b[39m\u001b[38;5;124mtrainer\u001b[39m\u001b[38;5;124m'\u001b[39m)\n\u001b[1;32m--> 372\u001b[0m \u001b[38;5;28mself\u001b[39m\u001b[38;5;241m.\u001b[39mtrainer \u001b[38;5;241m=\u001b[39m \u001b[43mtrainer\u001b[49m\u001b[43m(\u001b[49m\u001b[43moverrides\u001b[49m\u001b[38;5;241;43m=\u001b[39;49m\u001b[43moverrides\u001b[49m\u001b[43m,\u001b[49m\u001b[43m \u001b[49m\u001b[43m_callbacks\u001b[49m\u001b[38;5;241;43m=\u001b[39;49m\u001b[38;5;28;43mself\u001b[39;49m\u001b[38;5;241;43m.\u001b[39;49m\u001b[43mcallbacks\u001b[49m\u001b[43m)\u001b[49m\n\u001b[0;32m    373\u001b[0m \u001b[38;5;28;01mif\u001b[39;00m \u001b[38;5;129;01mnot\u001b[39;00m overrides\u001b[38;5;241m.\u001b[39mget(\u001b[38;5;124m'\u001b[39m\u001b[38;5;124mresume\u001b[39m\u001b[38;5;124m'\u001b[39m):  \u001b[38;5;66;03m# manually set model only if not resuming\u001b[39;00m\n\u001b[0;32m    374\u001b[0m     \u001b[38;5;28mself\u001b[39m\u001b[38;5;241m.\u001b[39mtrainer\u001b[38;5;241m.\u001b[39mmodel \u001b[38;5;241m=\u001b[39m \u001b[38;5;28mself\u001b[39m\u001b[38;5;241m.\u001b[39mtrainer\u001b[38;5;241m.\u001b[39mget_model(weights\u001b[38;5;241m=\u001b[39m\u001b[38;5;28mself\u001b[39m\u001b[38;5;241m.\u001b[39mmodel \u001b[38;5;28;01mif\u001b[39;00m \u001b[38;5;28mself\u001b[39m\u001b[38;5;241m.\u001b[39mckpt \u001b[38;5;28;01melse\u001b[39;00m \u001b[38;5;28;01mNone\u001b[39;00m, cfg\u001b[38;5;241m=\u001b[39m\u001b[38;5;28mself\u001b[39m\u001b[38;5;241m.\u001b[39mmodel\u001b[38;5;241m.\u001b[39myaml)\n",
      "File \u001b[1;32m~\\anaconda3\\envs\\tf\\lib\\site-packages\\ultralytics\\engine\\trainer.py:129\u001b[0m, in \u001b[0;36mBaseTrainer.__init__\u001b[1;34m(self, cfg, overrides, _callbacks)\u001b[0m\n\u001b[0;32m    127\u001b[0m             \u001b[38;5;28mself\u001b[39m\u001b[38;5;241m.\u001b[39margs\u001b[38;5;241m.\u001b[39mdata \u001b[38;5;241m=\u001b[39m \u001b[38;5;28mself\u001b[39m\u001b[38;5;241m.\u001b[39mdata[\u001b[38;5;124m'\u001b[39m\u001b[38;5;124myaml_file\u001b[39m\u001b[38;5;124m'\u001b[39m]  \u001b[38;5;66;03m# for validating 'yolo train data=url.zip' usage\u001b[39;00m\n\u001b[0;32m    128\u001b[0m \u001b[38;5;28;01mexcept\u001b[39;00m \u001b[38;5;167;01mException\u001b[39;00m \u001b[38;5;28;01mas\u001b[39;00m e:\n\u001b[1;32m--> 129\u001b[0m     \u001b[38;5;28;01mraise\u001b[39;00m \u001b[38;5;167;01mRuntimeError\u001b[39;00m(emojis(\u001b[38;5;124mf\u001b[39m\u001b[38;5;124m\"\u001b[39m\u001b[38;5;124mDataset \u001b[39m\u001b[38;5;124m'\u001b[39m\u001b[38;5;132;01m{\u001b[39;00mclean_url(\u001b[38;5;28mself\u001b[39m\u001b[38;5;241m.\u001b[39margs\u001b[38;5;241m.\u001b[39mdata)\u001b[38;5;132;01m}\u001b[39;00m\u001b[38;5;124m'\u001b[39m\u001b[38;5;124m error ❌ \u001b[39m\u001b[38;5;132;01m{\u001b[39;00me\u001b[38;5;132;01m}\u001b[39;00m\u001b[38;5;124m\"\u001b[39m)) \u001b[38;5;28;01mfrom\u001b[39;00m \u001b[38;5;21;01me\u001b[39;00m\n\u001b[0;32m    131\u001b[0m \u001b[38;5;28mself\u001b[39m\u001b[38;5;241m.\u001b[39mtrainset, \u001b[38;5;28mself\u001b[39m\u001b[38;5;241m.\u001b[39mtestset \u001b[38;5;241m=\u001b[39m \u001b[38;5;28mself\u001b[39m\u001b[38;5;241m.\u001b[39mget_dataset(\u001b[38;5;28mself\u001b[39m\u001b[38;5;241m.\u001b[39mdata)\n\u001b[0;32m    132\u001b[0m \u001b[38;5;28mself\u001b[39m\u001b[38;5;241m.\u001b[39mema \u001b[38;5;241m=\u001b[39m \u001b[38;5;28;01mNone\u001b[39;00m\n",
      "\u001b[1;31mRuntimeError\u001b[0m: Dataset 'C://Users/BAPS/runs/Car_detect/data.yaml' error  'C:\\Users\\BAPS\\runs\\Car_detect\\data.yaml' does not exist"
     ]
    }
   ],
   "source": [
    "import os\n",
    "\n",
    "from ultralytics import YOLO\n",
    "\n",
    "\n",
    "# Load a model\n",
    "model = YOLO(\"yolov8n.yaml\")  # build a new model from scratch\n",
    "\n",
    "# Use the model\n",
    "results = model.train(data=os.path.join(ROOT_DIR, \"data.yaml\"), epochs=1)  # train the model\n"
   ]
  },
  {
   "cell_type": "code",
   "execution_count": null,
   "id": "04e5ea83",
   "metadata": {},
   "outputs": [],
   "source": []
  }
 ],
 "metadata": {
  "kernelspec": {
   "display_name": "Python (GPU)",
   "language": "python",
   "name": "tf"
  },
  "language_info": {
   "codemirror_mode": {
    "name": "ipython",
    "version": 3
   },
   "file_extension": ".py",
   "mimetype": "text/x-python",
   "name": "python",
   "nbconvert_exporter": "python",
   "pygments_lexer": "ipython3",
   "version": "3.9.17"
  }
 },
 "nbformat": 4,
 "nbformat_minor": 5
}
